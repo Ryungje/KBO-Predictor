{
 "cells": [
  {
   "cell_type": "markdown",
   "metadata": {},
   "source": [
    "# Retrieving Website Data"
   ]
  },
  {
   "cell_type": "markdown",
   "metadata": {},
   "source": [
    "### Request Website and Parse"
   ]
  },
  {
   "cell_type": "code",
   "execution_count": null,
   "metadata": {},
   "outputs": [],
   "source": [
    "import requests\n",
    "\n",
    "url = 'https://mykbostats.com/stats/top'\n",
    "\n",
    "seasons = range(2014, 2025) \n",
    "batting_pages = [\"/ops\", \"/rbi\"]\n",
    "pitching_pages = [\"/era\"]\n",
    "pa_cutoff = \"?pa_cutoff=1\"\n",
    "\n",
    "r = []\n",
    "for s in seasons:\n",
    "  for b in batting_pages:\n",
    "    r.append(requests.get(url + b + \"/\" + str(s) + pa_cutoff))\n",
    "  for p in pitching_pages:\n",
    "    r.append(requests.get(url + p + \"/\" + str(s) + pa_cutoff))\n",
    "\n",
    "\n",
    "#print(r[0].content[:100])\n",
    "\n",
    "\n",
    "from bs4 import BeautifulSoup\n",
    "\n",
    "soup = []\n",
    "for i in r:\n",
    "  soup.append(BeautifulSoup(i.content, 'html.parser'))\n",
    "\n"
   ]
  },
  {
   "cell_type": "markdown",
   "metadata": {},
   "source": [
    "### Save and Open/Read HTML"
   ]
  },
  {
   "cell_type": "code",
   "execution_count": null,
   "metadata": {},
   "outputs": [],
   "source": [
    "# warning: did not update to match r being a list of website domains\n",
    "\n",
    "def save_html(html, path):\n",
    "    with open(path, 'wb') as f:\n",
    "        f.write(html)\n",
    "        \n",
    "        \n",
    "#save_html(r.content, 'KBO_stats')\n",
    "\n",
    "def open_html(path):\n",
    "    with open(path, 'rb') as f:\n",
    "        return f.read()\n",
    "    \n",
    "   \n",
    "#html = open_html('KBO_Stats')"
   ]
  },
  {
   "cell_type": "markdown",
   "metadata": {},
   "source": [
    "### Parse Data"
   ]
  },
  {
   "cell_type": "code",
   "execution_count": null,
   "metadata": {},
   "outputs": [],
   "source": []
  }
 ],
 "metadata": {
  "kernelspec": {
   "display_name": "Python 3",
   "language": "python",
   "name": "python3"
  },
  "language_info": {
   "codemirror_mode": {
    "name": "ipython",
    "version": 3
   },
   "file_extension": ".py",
   "mimetype": "text/x-python",
   "name": "python",
   "nbconvert_exporter": "python",
   "pygments_lexer": "ipython3",
   "version": "3.10.11"
  }
 },
 "nbformat": 4,
 "nbformat_minor": 2
}

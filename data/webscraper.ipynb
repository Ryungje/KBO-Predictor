{
 "cells": [
  {
   "cell_type": "code",
   "execution_count": null,
   "metadata": {},
   "outputs": [
    {
     "name": "stdout",
     "output_type": "stream",
     "text": [
      "b'<html lang=\"en\"><head>\\n    <meta charset=\"utf-8\">\\n    <meta http-equiv=\"X-UA-Compatible\" content=\"IE=edge\">\\n<meta content=\"fRcZGUQXNy4XUwpSFQUBGiEDFAACJjt98BHX5XTLT9AeyHKNT7lkuRQJ\" name=\"csrf-token\">\\n\\n    <title>Ko Young-min KBO League Batting Stats - Doosan Bears | MyKBO Stats</title>\\n\\n    <meta name=\"description\" content=\"Profile, batting stats, recent games and videos for Ko Young-min of the Doosan Bears (KBO League)\">\\n\\n    <meta name=\"apple-itunes-app\" content=\"app-id=1107341048\">\\n\\n    <meta'\n"
     ]
    }
   ],
   "source": [
    "# pip install requests\n",
    "import requests\n",
    "from bs4 import BeautifulSoup\n",
    "\n",
    "\n",
    "url = \"https://mykbostats.com/players/2\"\n",
    "apikey = \"b327144420a12f944bbdd4863c9fc0bffb28a1e3\"\n",
    "params = {\n",
    "    \"url\": url,\n",
    "    \"apikey\": apikey,\n",
    "    \"js_render\": \"true\",\n",
    "    \"premium_proxy\": \"true\",\n",
    "}\n",
    "response = requests.get(\"https://api.zenrows.com/v1/\", params=params)\n",
    "\n",
    "#print(response.content[:500])\n",
    "\n",
    "soup = BeautifulSoup(r.content, 'html.parser')"
   ]
  },
  {
   "cell_type": "code",
   "execution_count": 29,
   "metadata": {},
   "outputs": [
    {
     "name": "stdout",
     "output_type": "stream",
     "text": [
      "Year\n",
      "Team\n",
      "BA\n",
      "OBP\n",
      "SLG\n",
      "OPS\n",
      "G\n",
      "PA\n",
      "AB\n",
      "R\n",
      "H\n",
      "2B\n",
      "3B\n",
      "HR\n",
      "RBI\n",
      "SB\n",
      "CS\n",
      "BB\n",
      "SO\n",
      "TB\n",
      "GDP\n",
      "HBP\n",
      "SH\n",
      "SF\n",
      "IBB\n",
      "RISP\n",
      "PHBA\n",
      "Date\n",
      "Opp\n",
      "AB\n",
      "R\n",
      "H\n",
      "2B\n",
      "3B\n",
      "HR\n",
      "RBI\n",
      "BB\n",
      "HBP\n",
      "BA\n",
      "OBP\n",
      "SLG\n",
      "OPS\n",
      "SB\n",
      "CS\n",
      "GDP\n"
     ]
    }
   ],
   "source": [
    "header = soup.select('thead th')\n",
    "\n",
    "#print(header)\n",
    "\n",
    "h = header[0]\n",
    "\n",
    "for i in header: print(i.text)\n"
   ]
  },
  {
   "cell_type": "code",
   "execution_count": 8,
   "metadata": {},
   "outputs": [
    {
     "name": "stdout",
     "output_type": "stream",
     "text": [
      "<tr>\n",
      "<td class=\"stick left\">2021</td>\n",
      "<td>\n",
      "<nobr><span class=\"team-logo nc\"></span>\n",
      "<a href=\"/teams/9\">NC</a></nobr>\n",
      "</td>\n",
      "<td>7.83</td>\n",
      "<td>1.70</td>\n",
      "<td>3</td>\n",
      "<td>2</td>\n",
      "<td>0</td>\n",
      "<td>1</td>\n",
      "<td>0</td>\n",
      "<td>12</td>\n",
      "<td>3</td>\n",
      "<td>0 (0)</td>\n",
      "<td>0</td>\n",
      "<td>109</td>\n",
      "<td>435</td>\n",
      "<td>23</td>\n",
      "<td>21</td>\n",
      "<td>20</td>\n",
      "<td>25</td>\n",
      "<td>4</td>\n",
      "<td>1</td>\n",
      "<td>4</td>\n",
      "<td>14</td>\n",
      "<td>14</td>\n",
      "<td>0</td>\n",
      "<td>0</td>\n",
      "<td>3</td>\n",
      "<td>0</td>\n",
      "</tr>\n"
     ]
    },
    {
     "ename": "AttributeError",
     "evalue": "'NoneType' object has no attribute 'text'",
     "output_type": "error",
     "traceback": [
      "\u001b[1;31m---------------------------------------------------------------------------\u001b[0m",
      "\u001b[1;31mAttributeError\u001b[0m                            Traceback (most recent call last)",
      "Cell \u001b[1;32mIn[8], line 7\u001b[0m\n\u001b[0;32m      3\u001b[0m \u001b[38;5;28mprint\u001b[39m(rows[\u001b[38;5;241m1\u001b[39m])\n\u001b[0;32m      5\u001b[0m row \u001b[38;5;241m=\u001b[39m rows[\u001b[38;5;241m0\u001b[39m]\n\u001b[1;32m----> 7\u001b[0m name \u001b[38;5;241m=\u001b[39m \u001b[43mrow\u001b[49m\u001b[38;5;241;43m.\u001b[39;49m\u001b[43mselect_one\u001b[49m\u001b[43m(\u001b[49m\u001b[38;5;124;43m'\u001b[39;49m\u001b[38;5;124;43mstick left\u001b[39;49m\u001b[38;5;124;43m'\u001b[39;49m\u001b[43m)\u001b[49m\u001b[38;5;241;43m.\u001b[39;49m\u001b[43mtext\u001b[49m\u001b[38;5;241m.\u001b[39mstrip()\n\u001b[0;32m      9\u001b[0m \u001b[38;5;28mprint\u001b[39m(name)\n",
      "\u001b[1;31mAttributeError\u001b[0m: 'NoneType' object has no attribute 'text'"
     ]
    }
   ],
   "source": [
    "rows = soup.select('tbody tr')\n",
    "\n",
    "print(rows[1])\n",
    "\n",
    "row = rows[0]\n",
    "\n",
    "name = row.select_one('stick left').text.strip()\n",
    "\n",
    "print(name)"
   ]
  }
 ],
 "metadata": {
  "kernelspec": {
   "display_name": "Python 3",
   "language": "python",
   "name": "python3"
  },
  "language_info": {
   "codemirror_mode": {
    "name": "ipython",
    "version": 3
   },
   "file_extension": ".py",
   "mimetype": "text/x-python",
   "name": "python",
   "nbconvert_exporter": "python",
   "pygments_lexer": "ipython3",
   "version": "3.10.11"
  }
 },
 "nbformat": 4,
 "nbformat_minor": 2
}

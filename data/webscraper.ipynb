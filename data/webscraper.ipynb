{
 "cells": [
  {
   "cell_type": "code",
   "execution_count": 209,
   "metadata": {},
   "outputs": [],
   "source": [
    "# pip install requests\n",
    "import requests\n",
    "from bs4 import BeautifulSoup\n",
    "\n",
    "\n",
    "url = \"https://mykbostats.com/players/1\"\n",
    "apikey = \"b327144420a12f944bbdd4863c9fc0bffb28a1e3\" \n",
    "params = {\n",
    "    \"url\": url,\n",
    "    \"apikey\": apikey,\n",
    "    \"js_render\": \"true\",\n",
    "    \"premium_proxy\": \"true\",\n",
    "}\n",
    "response = requests.get(\"https://api.zenrows.com/v1/\", params=params)\n",
    "\n",
    "#print(response.content[:500])\n",
    "\n",
    "soup = BeautifulSoup(response.content, 'html.parser')"
   ]
  },
  {
   "cell_type": "code",
   "execution_count": 210,
   "metadata": {},
   "outputs": [
    {
     "name": "stdout",
     "output_type": "stream",
     "text": [
      "['Kang Dong-yeon KBO League Pitching Stats', 'NC Dinos']\n"
     ]
    }
   ],
   "source": [
    "temp = soup.select('title')[0].text\n",
    "\n",
    "player = [temp[:temp.find(' - ')], temp[temp.find(' - ')+3:temp.find(' | ')]]\n",
    "\n",
    "print(player)"
   ]
  },
  {
   "cell_type": "code",
   "execution_count": 211,
   "metadata": {},
   "outputs": [
    {
     "name": "stdout",
     "output_type": "stream",
     "text": [
      "['Year', 'Team', 'ERA', 'WHIP', 'W', 'L', 'SV', 'H', 'BSV', 'G', 'GS', 'CG(SHO)', 'QS', 'TBF', 'NP', 'IP', 'R', 'ER', 'H', '2B', '3B', 'HR', 'SO', 'BB', 'IBB', 'HB', 'WP', 'BK']\n"
     ]
    }
   ],
   "source": [
    "# extract table header information\n",
    "header = soup.select('thead th')\n",
    "\n",
    "for i in range(len(header)):\n",
    "  header[i] = header[i].text.strip()\n",
    "\n",
    "# remove 'Game Stats' data\n",
    "header = header[:header.index(\"Date\")]\n",
    "\n",
    "print(header)"
   ]
  },
  {
   "cell_type": "code",
   "execution_count": 212,
   "metadata": {},
   "outputs": [
    {
     "name": "stdout",
     "output_type": "stream",
     "text": [
      "['2022', 'NC Dinos', '10.38', '2.19', '0', '0', '0', '0', '0', '6', '0', '0 (0)', '0', '44', '157', '8\\xa0⅔', '10', '10', '16', '5', '1', '2', '3', '3', '0', '1', '1', '0']\n"
     ]
    }
   ],
   "source": [
    "rows = soup.select('tbody tr')\n",
    "\n",
    "r = rows[0]\n",
    "\n",
    "temp = [r.select_one('.left').text.strip(), r.select_one('nobr').text.strip()]\n",
    "for i in r.select('td')[2:]:\n",
    "  temp.append(i.text.strip())\n",
    "\n",
    "temp[1] = player[1]\n",
    "\n",
    "print(temp)"
   ]
  },
  {
   "cell_type": "code",
   "execution_count": null,
   "metadata": {},
   "outputs": [
    {
     "ename": "SyntaxError",
     "evalue": "invalid syntax (2054500104.py, line 12)",
     "output_type": "error",
     "traceback": [
      "\u001b[1;36m  Cell \u001b[1;32mIn[221], line 12\u001b[1;36m\u001b[0m\n\u001b[1;33m    dt[temp[0]][header[d]] =\u001b[0m\n\u001b[1;37m                            ^\u001b[0m\n\u001b[1;31mSyntaxError\u001b[0m\u001b[1;31m:\u001b[0m invalid syntax\n"
     ]
    }
   ],
   "source": [
    "data = {player[0]:None} # temp[0] is Year info\n",
    "\n",
    "print(player[0])\n",
    "print(temp[0])\n",
    "print(header[1])\n",
    "print(temp[1])\n",
    "print(data)\n",
    "\n",
    "\n",
    "dt = {temp[0]:{}}\n",
    "for d in range(1, len(header)):\n",
    "  dt[temp[0]][header[d]] = temp[d]\n",
    "\n",
    "\n",
    "'''\n",
    "for d in range(1, len(header)):\n",
    "  data[player[0]] = {\n",
    "    temp[0] : {\n",
    "        header[d] : temp[d]\n",
    "      }\n",
    "    }\n",
    "'''\n",
    "data[player[0]] = dt\n",
    "print(data)"
   ]
  },
  {
   "cell_type": "code",
   "execution_count": null,
   "metadata": {},
   "outputs": [],
   "source": []
  }
 ],
 "metadata": {
  "kernelspec": {
   "display_name": "Python 3",
   "language": "python",
   "name": "python3"
  },
  "language_info": {
   "codemirror_mode": {
    "name": "ipython",
    "version": 3
   },
   "file_extension": ".py",
   "mimetype": "text/x-python",
   "name": "python",
   "nbconvert_exporter": "python",
   "pygments_lexer": "ipython3",
   "version": "3.10.11"
  }
 },
 "nbformat": 4,
 "nbformat_minor": 2
}

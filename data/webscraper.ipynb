{
 "cells": [
  {
   "cell_type": "markdown",
   "metadata": {},
   "source": [
    "### Retrieve Site and Parse HTML"
   ]
  },
  {
   "cell_type": "code",
   "execution_count": 5,
   "metadata": {},
   "outputs": [],
   "source": [
    "#%pip install requests\n",
    "import requests\n",
    "from bs4 import BeautifulSoup\n",
    "\n",
    "\n",
    "url = \"https://mykbostats.com/players/1\"\n",
    "apikey = \"b327144420a12f944bbdd4863c9fc0bffb28a1e3\" \n",
    "params = {\n",
    "    \"url\": url,\n",
    "    \"apikey\": apikey,\n",
    "    \"js_render\": \"true\",\n",
    "    \"premium_proxy\": \"true\",\n",
    "}\n",
    "response = requests.get(\"https://api.zenrows.com/v1/\", params=params)\n",
    "\n",
    "#print(response.content[:500])\n",
    "\n",
    "soup = BeautifulSoup(response.content, 'html.parser')"
   ]
  },
  {
   "cell_type": "markdown",
   "metadata": {},
   "source": [
    "### Player Name and Team"
   ]
  },
  {
   "cell_type": "code",
   "execution_count": 6,
   "metadata": {},
   "outputs": [],
   "source": [
    "t = soup.select('title')[0].text.strip()\n",
    "player = t[:t.find(' - ')]\n",
    "\n",
    "teams = {'Doosan': 'Doosan Bears', \n",
    "         'Hanwha': 'Hanwha Eagles', \n",
    "         'Kia': 'Kia Tigers', \n",
    "         'Kiwoom': 'Kiwoom Heroes', \n",
    "         'KT': 'KT Wiz', \n",
    "         'LG': 'LG Twins', \n",
    "         'Lotte': 'Lotte Giants', \n",
    "         'NC': 'NC Dinos', \n",
    "         'Samsung': 'Samsung Lions', \n",
    "         'SSG': 'SSG Landers'}"
   ]
  },
  {
   "cell_type": "markdown",
   "metadata": {},
   "source": [
    "### Table Headers"
   ]
  },
  {
   "cell_type": "code",
   "execution_count": 7,
   "metadata": {},
   "outputs": [],
   "source": [
    "# extract table header information\n",
    "header = soup.select('thead th')\n",
    "for i in range(len(header)):\n",
    "  header[i] = header[i].text.strip()\n",
    "\n",
    "# remove 'Game Stats' data\n",
    "header = header[:header.index(\"Date\")]\n",
    "header = ['Name'] + header"
   ]
  },
  {
   "cell_type": "markdown",
   "metadata": {},
   "source": [
    "### Get Table Contents \n",
    "Write to contents to dataframe, then write to CSV"
   ]
  },
  {
   "cell_type": "code",
   "execution_count": null,
   "metadata": {},
   "outputs": [],
   "source": [
    "#%pip install pandas\n",
    "import pandas as pd\n",
    "\n",
    "#data to be inserted into dataframe later\n",
    "temp = []\n",
    "\n",
    "# Parse row data and add to temp\n",
    "rows = soup.select('tbody tr')\n",
    "\n",
    "for r in rows:\n",
    "  if (r.select_one('.left').text.strip() == 'Career'):\n",
    "    break\n",
    "\n",
    "  t = [player, r.select_one('.left').text.strip(), r.select_one('nobr').text.strip()]  \n",
    "  for i in r.select('td')[2:]:\n",
    "    t.append(i.text.strip())\n",
    "  temp.append(t)\n",
    "\n",
    "# init dataframe\n",
    "data = pd.DataFrame(data = temp, columns = header)\n",
    "\n",
    "#write to CSV\n",
    "data.to_csv('mycsvfile.csv')"
   ]
  }
 ],
 "metadata": {
  "kernelspec": {
   "display_name": "Python 3",
   "language": "python",
   "name": "python3"
  },
  "language_info": {
   "codemirror_mode": {
    "name": "ipython",
    "version": 3
   },
   "file_extension": ".py",
   "mimetype": "text/x-python",
   "name": "python",
   "nbconvert_exporter": "python",
   "pygments_lexer": "ipython3",
   "version": "3.10.11"
  }
 },
 "nbformat": 4,
 "nbformat_minor": 2
}

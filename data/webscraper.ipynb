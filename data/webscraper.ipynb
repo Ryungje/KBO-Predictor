{
 "cells": [
  {
   "cell_type": "code",
   "execution_count": null,
   "metadata": {},
   "outputs": [],
   "source": [
    "# pip install requests\n",
    "import requests\n",
    "from bs4 import BeautifulSoup\n",
    "\n",
    "\n",
    "url = \"https://mykbostats.com/players/1\"\n",
    "apikey = \"b327144420a12f944bbdd4863c9fc0bffb28a1e3\" \n",
    "params = {\n",
    "    \"url\": url,\n",
    "    \"apikey\": apikey,\n",
    "    \"js_render\": \"true\",\n",
    "    \"premium_proxy\": \"true\",\n",
    "}\n",
    "response = requests.get(\"https://api.zenrows.com/v1/\", params=params)\n",
    "\n",
    "#print(response.content[:500])\n",
    "\n",
    "soup = BeautifulSoup(response.content, 'html.parser')"
   ]
  },
  {
   "cell_type": "code",
   "execution_count": null,
   "metadata": {},
   "outputs": [],
   "source": [
    "# extract table header information\n",
    "header = soup.select('thead th')\n",
    "\n",
    "for i in range(len(header)):\n",
    "  header[i] = header[i].text\n",
    "\n",
    "# remove 'Game Stats' data\n",
    "header = header[:header.index(\"Date\")]\n",
    "\n"
   ]
  },
  {
   "cell_type": "code",
   "execution_count": null,
   "metadata": {},
   "outputs": [
    {
     "name": "stdout",
     "output_type": "stream",
     "text": [
      "2021\n",
      "NC\n",
      "\n",
      "----------------------------------\n",
      "\n",
      "<tr>\n",
      "<td class=\"stick left\">2021</td>\n",
      "<td>\n",
      "<nobr><span class=\"team-logo nc\"></span>\n",
      "<a href=\"/teams/9\">NC</a></nobr>\n",
      "</td>\n",
      "<td>7.83</td>\n",
      "<td>1.70</td>\n",
      "<td>3</td>\n",
      "<td>2</td>\n",
      "<td>0</td>\n",
      "<td>1</td>\n",
      "<td>0</td>\n",
      "<td>12</td>\n",
      "<td>3</td>\n",
      "<td>0 (0)</td>\n",
      "<td>0</td>\n",
      "<td>109</td>\n",
      "<td>435</td>\n",
      "<td>23</td>\n",
      "<td>21</td>\n",
      "<td>20</td>\n",
      "<td>25</td>\n",
      "<td>4</td>\n",
      "<td>1</td>\n",
      "<td>4</td>\n",
      "<td>14</td>\n",
      "<td>14</td>\n",
      "<td>0</td>\n",
      "<td>0</td>\n",
      "<td>3</td>\n",
      "<td>0</td>\n",
      "</tr>\n"
     ]
    }
   ],
   "source": [
    "# did not test for case when page is empty ex. https://mykbostats.com/players/2000\n",
    "\n",
    "rows = soup.select('tbody tr')\n",
    "\n",
    "r = rows[0]\n",
    "\n",
    "\n",
    "print(r.select_one('.left').text) #use .strip()?\n",
    "print(r.select_one('a').text)\n",
    "print('\\n----------------------------------\\n')\n",
    "print(r)\n",
    "\n",
    "\n",
    "#for i in rows: print(i.text)\n",
    "\n",
    "\n",
    "#for i in range(len(rows)): \n",
    "  "
   ]
  }
 ],
 "metadata": {
  "kernelspec": {
   "display_name": "Python 3",
   "language": "python",
   "name": "python3"
  },
  "language_info": {
   "codemirror_mode": {
    "name": "ipython",
    "version": 3
   },
   "file_extension": ".py",
   "mimetype": "text/x-python",
   "name": "python",
   "nbconvert_exporter": "python",
   "pygments_lexer": "ipython3",
   "version": "3.10.11"
  }
 },
 "nbformat": 4,
 "nbformat_minor": 2
}

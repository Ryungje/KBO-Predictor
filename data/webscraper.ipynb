{
 "cells": [
  {
   "cell_type": "markdown",
   "metadata": {},
   "source": [
    "### Retrieve Site and Parse HTML"
   ]
  },
  {
   "cell_type": "code",
   "execution_count": null,
   "metadata": {},
   "outputs": [],
   "source": [
    "# pip install requests\n",
    "import requests\n",
    "from bs4 import BeautifulSoup\n",
    "\n",
    "\n",
    "url = \"https://mykbostats.com/players/1\"\n",
    "apikey = \"b327144420a12f944bbdd4863c9fc0bffb28a1e3\" \n",
    "params = {\n",
    "    \"url\": url,\n",
    "    \"apikey\": apikey,\n",
    "    \"js_render\": \"true\",\n",
    "    \"premium_proxy\": \"true\",\n",
    "}\n",
    "response = requests.get(\"https://api.zenrows.com/v1/\", params=params)\n",
    "\n",
    "#print(response.content[:500])\n",
    "\n",
    "soup = BeautifulSoup(response.content, 'html.parser')"
   ]
  },
  {
   "cell_type": "markdown",
   "metadata": {},
   "source": [
    "### Player Name and Team"
   ]
  },
  {
   "cell_type": "code",
   "execution_count": null,
   "metadata": {},
   "outputs": [],
   "source": [
    "temp = soup.select('title')[0].text\n",
    "\n",
    "player = temp[:temp.find(' - ')]\n",
    "\n",
    "print(player)"
   ]
  },
  {
   "cell_type": "markdown",
   "metadata": {},
   "source": [
    "### Table Headers"
   ]
  },
  {
   "cell_type": "code",
   "execution_count": 287,
   "metadata": {},
   "outputs": [
    {
     "name": "stdout",
     "output_type": "stream",
     "text": [
      "['Year', 'Team', 'ERA', 'WHIP', 'W', 'L', 'SV', 'H', 'BSV', 'G', 'GS', 'CG(SHO)', 'QS', 'TBF', 'NP', 'IP', 'R', 'ER', 'H', '2B', '3B', 'HR', 'SO', 'BB', 'IBB', 'HB', 'WP', 'BK']\n"
     ]
    }
   ],
   "source": [
    "# extract table header information\n",
    "header = soup.select('thead th')\n",
    "\n",
    "for i in range(len(header)):\n",
    "  header[i] = header[i].text.strip()\n",
    "\n",
    "# remove 'Game Stats' data\n",
    "header = header[:header.index(\"Date\")]\n",
    "\n",
    "print(header)"
   ]
  },
  {
   "cell_type": "markdown",
   "metadata": {},
   "source": [
    "### Table Contents"
   ]
  },
  {
   "cell_type": "code",
   "execution_count": 288,
   "metadata": {},
   "outputs": [
    {
     "name": "stdout",
     "output_type": "stream",
     "text": [
      "['2022', 'NC', '10.38', '2.19', '0', '0', '0', '0', '0', '6', '0', '0 (0)', '0', '44', '157', '8\\xa0⅔', '10', '10', '16', '5', '1', '2', '3', '3', '0', '1', '1', '0']\n"
     ]
    }
   ],
   "source": [
    "rows = soup.select('tbody tr')\n",
    "\n",
    "r = rows[0]\n",
    "\n",
    "temp = [r.select_one('.left').text.strip(), r.select_one('nobr').text.strip()]\n",
    "for i in r.select('td')[2:]:\n",
    "  temp.append(i.text.strip())\n",
    "\n",
    "\n",
    "print(temp)\n",
    "\n",
    "# Need to adjust team name to include full team name"
   ]
  },
  {
   "cell_type": "markdown",
   "metadata": {},
   "source": [
    "### Combine Into Dictionary"
   ]
  },
  {
   "cell_type": "code",
   "execution_count": null,
   "metadata": {},
   "outputs": [],
   "source": [
    "data = {player:None} # temp[0] is Year info\n",
    "\n",
    "\n",
    "dt = {temp[0]:{}}\n",
    "for d in range(1, len(header)):\n",
    "  dt[temp[0]][header[d]] = temp[d]\n",
    "\n",
    "data[player] = dt\n",
    "print(data)"
   ]
  },
  {
   "cell_type": "code",
   "execution_count": null,
   "metadata": {},
   "outputs": [
    {
     "name": "stdout",
     "output_type": "stream",
     "text": [
      "{'Kang Dong-yeon KBO League Pitching Stats': {'2022': {'Team': 'NC Dinos', 'ERA': '10.38', 'WHIP': '2.19', 'W': '0', 'L': '0', 'SV': '0', 'H': '16', 'BSV': '0', 'G': '6', 'GS': '0', 'CG(SHO)': '0 (0)', 'QS': '0', 'TBF': '44', 'NP': '157', 'IP': '8\\xa0⅔', 'R': '10', 'ER': '10', '2B': '5', '3B': '1', 'HR': '2', 'SO': '3', 'BB': '3', 'IBB': '0', 'HB': '1', 'WP': '1', 'BK': '0'}, '2021': {'Team': 'NC Dinos', 'ERA': '7.83', 'WHIP': '1.70', 'W': '3', 'L': '2', 'SV': '0', 'H': '25', 'BSV': '0', 'G': '12', 'GS': '3', 'CG(SHO)': '0 (0)', 'QS': '0', 'TBF': '109', 'NP': '435', 'IP': '23', 'R': '21', 'ER': '20', '2B': '4', '3B': '1', 'HR': '4', 'SO': '14', 'BB': '14', 'IBB': '0', 'HB': '0', 'WP': '3', 'BK': '0'}, '2020': {'Team': 'NC Dinos', 'ERA': '6.00', 'WHIP': '1.58', 'W': '1', 'L': '2', 'SV': '0', 'H': '27', 'BSV': '1', 'G': '22', 'GS': '0', 'CG(SHO)': '0 (0)', 'QS': '0', 'TBF': '106', 'NP': '410', 'IP': '24', 'R': '17', 'ER': '16', '2B': '6', '3B': '0', 'HR': '3', 'SO': '17', 'BB': '11', 'IBB': '1', 'HB': '1', 'WP': '0', 'BK': '0'}, '2019': {'Team': 'Doosan Bears', 'ERA': '5.40', 'WHIP': '1.60', 'W': '0', 'L': '0', 'SV': '0', 'H': '8', 'BSV': '0', 'G': '5', 'GS': '0', 'CG(SHO)': '0 (0)', 'QS': '0', 'TBF': '22', 'NP': '89', 'IP': '5', 'R': '3', 'ER': '3', '2B': '2', '3B': '0', 'HR': '2', 'SO': '3', 'BB': '0', 'IBB': '0', 'HB': '0', 'WP': '0', 'BK': '0'}, '2018': {'Team': 'Doosan Bears', 'ERA': '5.40', 'WHIP': '1.29', 'W': '1', 'L': '0', 'SV': '0', 'H': '10', 'BSV': '1', 'G': '8', 'GS': '0', 'CG(SHO)': '0 (0)', 'QS': '0', 'TBF': '49', 'NP': '193', 'IP': '11\\xa0⅔', 'R': '8', 'ER': '7', '2B': '2', '3B': '0', 'HR': '2', 'SO': '5', 'BB': '5', 'IBB': '0', 'HB': '0', 'WP': '0', 'BK': '0'}, '2016': {'Team': 'Doosan Bears', 'ERA': '8.22', 'WHIP': '1.96', 'W': '0', 'L': '0', 'SV': '0', 'H': '9', 'BSV': '0', 'G': '11', 'GS': '0', 'CG(SHO)': '0 (0)', 'QS': '0', 'TBF': '36', 'NP': '132', 'IP': '7\\xa0⅔', 'R': '8', 'ER': '7', '2B': '3', '3B': '0', 'HR': '2', 'SO': '6', 'BB': '6', 'IBB': '0', 'HB': '0', 'WP': '0', 'BK': '0'}, '2014': {'Team': 'Doosan Bears', 'ERA': '27.00', 'WHIP': '5.00', 'W': '0', 'L': '0', 'SV': '0', 'H': '5', 'BSV': '0', 'G': '1', 'GS': '0', 'CG(SHO)': '0 (0)', 'QS': '0', 'TBF': '8', 'NP': '33', 'IP': '1', 'R': '3', 'ER': '3', '2B': '2', '3B': '0', 'HR': '1', 'SO': '3', 'BB': '0', 'IBB': '0', 'HB': '0', 'WP': '0', 'BK': '0'}, '2013': {'Team': 'Doosan Bears', 'ERA': '0.00', 'WHIP': '0.50', 'W': '0', 'L': '0', 'SV': '0', 'H': '1', 'BSV': '', 'G': '1', 'GS': '', 'CG(SHO)': '0 (0)', 'QS': '', 'TBF': '7', 'NP': '', 'IP': '2', 'R': '1', 'ER': '0', '2B': '', '3B': '', 'HR': '0', 'SO': '1', 'BB': '0', 'IBB': '', 'HB': '0', 'WP': '', 'BK': ''}}}\n"
     ]
    }
   ],
   "source": [
    "# Player Name\n",
    "t = soup.select('title')[0].text.strip()\n",
    "player = t[:t.find(' - ')]\n",
    "\n",
    "\n",
    "# extract table header information\n",
    "header = soup.select('thead th')\n",
    "for i in range(len(header)):\n",
    "  header[i] = header[i].text.strip()\n",
    "\n",
    "# remove 'Game Stats' data\n",
    "header = header[:header.index(\"Date\")]\n",
    "\n",
    "\n",
    "teams = {'Doosan': 'Doosan Bears', 'Hanwha': 'Hanwha Eagles', 'Kia': 'Kia Tigers', 'Kiwoom': 'Kiwoom Heroes', 'KT': 'KT Wiz', 'LG': 'LG Twins', 'Lotte': 'Lotte Giants', 'NC': 'NC Dinos', 'Samsung': 'Samsung Lions', 'SSG': 'SSG Landers'}\n",
    "\n",
    "# Init Dict\n",
    "data = {player:{}}\n",
    "\n",
    "# add row data\n",
    "rows = soup.select('tbody tr')\n",
    "\n",
    "for r in rows:\n",
    "  if (r.select_one('.left').text.strip() == 'Career'):\n",
    "    break\n",
    "\n",
    "  temp = [r.select_one('.left').text.strip(), r.select_one('nobr').text.strip()]  \n",
    "  for i in r.select('td')[2:]:\n",
    "    temp.append(i.text.strip())\n",
    "  \n",
    "  temp[1] = teams[temp[1]]\n",
    "  temp = {head : temp[i] for i, head in enumerate(header)}\n",
    "  year = temp.pop('Year')\n",
    "\n",
    "  data[player].update({\n",
    "    year : {}\n",
    "  })\n",
    "\n",
    "  data[player][year].update(temp)\n"
   ]
  },
  {
   "cell_type": "code",
   "execution_count": 313,
   "metadata": {},
   "outputs": [
    {
     "name": "stdout",
     "output_type": "stream",
     "text": [
      "2022\n",
      "{'Team': 'NC', 'ERA': '10.38', 'WHIP': '2.19', 'W': '0', 'L': '0', 'SV': '0', 'H': '16', 'BSV': '0', 'G': '6', 'GS': '0', 'CG(SHO)': '0 (0)', 'QS': '0', 'TBF': '44', 'NP': '157', 'IP': '8\\xa0⅔', 'R': '10', 'ER': '10', '2B': '5', '3B': '1', 'HR': '2', 'SO': '3', 'BB': '3', 'IBB': '0', 'HB': '1', 'WP': '1', 'BK': '0'}\n"
     ]
    }
   ],
   "source": [
    "d = {head : temp[i] for i, head in enumerate(header)}\n",
    "\n",
    "print(d.pop('Year'))\n",
    "print(d)"
   ]
  },
  {
   "cell_type": "code",
   "execution_count": null,
   "metadata": {},
   "outputs": [
    {
     "data": {
      "text/plain": [
       "{1: 'as'}"
      ]
     },
     "execution_count": 308,
     "metadata": {},
     "output_type": "execute_result"
    }
   ],
   "source": []
  }
 ],
 "metadata": {
  "kernelspec": {
   "display_name": "Python 3",
   "language": "python",
   "name": "python3"
  },
  "language_info": {
   "codemirror_mode": {
    "name": "ipython",
    "version": 3
   },
   "file_extension": ".py",
   "mimetype": "text/x-python",
   "name": "python",
   "nbconvert_exporter": "python",
   "pygments_lexer": "ipython3",
   "version": "3.10.11"
  }
 },
 "nbformat": 4,
 "nbformat_minor": 2
}
